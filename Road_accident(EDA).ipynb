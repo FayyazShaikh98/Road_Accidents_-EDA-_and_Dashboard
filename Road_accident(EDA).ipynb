{
  "nbformat": 4,
  "nbformat_minor": 0,
  "metadata": {
    "colab": {
      "provenance": [],
      "mount_file_id": "1OAZS0iAxDTHRRG0w4eTP0d4krUmlX4KA",
      "authorship_tag": "ABX9TyOJDBRWrw9VgZSUwmdpk8sV",
      "include_colab_link": true
    },
    "kernelspec": {
      "name": "python3",
      "display_name": "Python 3"
    },
    "language_info": {
      "name": "python"
    }
  },
  "cells": [
    {
      "cell_type": "markdown",
      "metadata": {
        "id": "view-in-github",
        "colab_type": "text"
      },
      "source": [
        "<a href=\"https://colab.research.google.com/github/FayyazShaikh98/FayyazShaikh98/blob/main/Road_accident(EDA).ipynb\" target=\"_parent\"><img src=\"https://colab.research.google.com/assets/colab-badge.svg\" alt=\"Open In Colab\"/></a>"
      ]
    },
    {
      "cell_type": "markdown",
      "source": [
        "### **Road Accidents (EDA)**\n",
        "\n",
        "\n",
        "### The objective of this project is to perform an exploratory data analysis (EDA) on a dataset of road accidents. This analysis will help to uncover patterns, trends, and insights that could be useful for improving road safety and reducing the frequency and severity of accidents. By thoroughly examining the dataset, I had aim to identify critical factors that contribute to road accidents and provide actionable insights for policymakers, traffic authorities, and the general public.\n",
        "### The tools which i had used for this analysis are Pandas, Matplotlib, and Seaborn. Pandas will be employed for data manipulation and cleaning, allows to efficiently handle missing data, null-values, formating datetime, remove duplicates, and convert data types as needed.\n",
        "### Matplotlib is utilized for basic plotting, enabling to create foundational visualizations like histograms, scatter plots, and bar charts. These visualizations helps to identify initial trends and patterns in the data.Seaborn, known for its aesthetically pleasing and advanced visualizations, is used to create more complex plots, such as pair plots, heatmaps, and distribution plots. These visualizations will facilitate deeper insights into the relationships between multiple variables.\n",
        "\n",
        "\n",
        "\n",
        "\n",
        "\n",
        "\n",
        "\n"
      ],
      "metadata": {
        "id": "TSSllIxm_N0-"
      }
    },
    {
      "cell_type": "markdown",
      "source": [
        "### Let's Start"
      ],
      "metadata": {
        "id": "ifv7wo5S-ERj"
      }
    },
    {
      "cell_type": "markdown",
      "source": [
        "### Importing Libraries"
      ],
      "metadata": {
        "id": "Vrh597ayAs6x"
      }
    },
    {
      "cell_type": "code",
      "execution_count": null,
      "metadata": {
        "colab": {
          "base_uri": "https://localhost:8080/"
        },
        "id": "x96lsE3W2KNz",
        "outputId": "0c78defc-0a62-4ee4-c742-6778dd7d55b6"
      },
      "outputs": [
        {
          "output_type": "stream",
          "name": "stderr",
          "text": [
            "<ipython-input-2-500c0fdd4c40>:4: DeprecationWarning: `np.math` is a deprecated alias for the standard library `math` module (Deprecated Numpy 1.25). Replace usages of `np.math` with `math`\n",
            "  from numpy import math\n"
          ]
        }
      ],
      "source": [
        "# Importing all the libraries >>\n",
        "import pandas as pd\n",
        "import numpy as np\n",
        "from numpy import math\n",
        "import matplotlib.pyplot as plt\n",
        "import seaborn as sns"
      ]
    },
    {
      "cell_type": "markdown",
      "source": [
        "### Importing the Dataset"
      ],
      "metadata": {
        "id": "Sz_8zOyX8iB4"
      }
    },
    {
      "cell_type": "code",
      "source": [
        "# Importing data set using google drive.\n",
        "from google.colab import drive\n",
        "drive.mount('/content/drive')\n",
        "rd_accident_df = pd.read_csv('/content/drive/MyDrive/Almabetter/Datasets/accident.csv')\n"
      ],
      "metadata": {
        "colab": {
          "base_uri": "https://localhost:8080/"
        },
        "id": "f7SalIjS3_-l",
        "outputId": "186cb4b6-2543-48ea-d978-550fa50a035d"
      },
      "execution_count": null,
      "outputs": [
        {
          "output_type": "stream",
          "name": "stdout",
          "text": [
            "Drive already mounted at /content/drive; to attempt to forcibly remount, call drive.mount(\"/content/drive\", force_remount=True).\n"
          ]
        }
      ]
    },
    {
      "cell_type": "markdown",
      "source": [
        "### First view of Dataset"
      ],
      "metadata": {
        "id": "buYCtnvR8l50"
      }
    },
    {
      "cell_type": "code",
      "source": [
        "rd_accident_df.head()"
      ],
      "metadata": {
        "colab": {
          "base_uri": "https://localhost:8080/",
          "height": 330
        },
        "id": "nQImjEY28QiD",
        "outputId": "1b65bc98-55cb-4c38-8524-03fa622aeac1"
      },
      "execution_count": null,
      "outputs": [
        {
          "output_type": "execute_result",
          "data": {
            "text/plain": [
              "  Accident_ID           State        Date      Time                Reason  \\\n",
              "0        1001  Andhra Pradesh  2021-05-01  15:30:00              Speeding   \n",
              "1        1002       Karnataka  2021-05-02  18:45:00         Drunk Driving   \n",
              "2        1003           Delhi  2021-05-03  10:15:00  Poor Road Conditions   \n",
              "3        1004     Maharashtra  2021-05-04  06:00:00        Driver Fatigue   \n",
              "4        1005   Uttar Pradesh  2021-05-05  21:20:00              Speeding   \n",
              "\n",
              "   Number_of_Deaths Number_of_Injuries Road_Type Weather_Conditions  \\\n",
              "0                 2                  3     Rural              Sunny   \n",
              "1                 1                  4     Urban              Rainy   \n",
              "2                 0                  2     Urban              Foggy   \n",
              "3                 3                  6     Rural              Sunny   \n",
              "4                 1                  2     Rural              Sunny   \n",
              "\n",
              "  Alcohol_Involved Driver_Fatigue Road_Conditions  Speed_Limit  \n",
              "0               No             No            Poor         60.0  \n",
              "1              Yes             No            Good         40.0  \n",
              "2               No             No            Poor         50.0  \n",
              "3               No            Yes            Good         70.0  \n",
              "4               No             No            Fair         80.0  "
            ],
            "text/html": [
              "\n",
              "  <div id=\"df-d21fe406-9388-4706-b37a-8bc55fddd1c7\" class=\"colab-df-container\">\n",
              "    <div>\n",
              "<style scoped>\n",
              "    .dataframe tbody tr th:only-of-type {\n",
              "        vertical-align: middle;\n",
              "    }\n",
              "\n",
              "    .dataframe tbody tr th {\n",
              "        vertical-align: top;\n",
              "    }\n",
              "\n",
              "    .dataframe thead th {\n",
              "        text-align: right;\n",
              "    }\n",
              "</style>\n",
              "<table border=\"1\" class=\"dataframe\">\n",
              "  <thead>\n",
              "    <tr style=\"text-align: right;\">\n",
              "      <th></th>\n",
              "      <th>Accident_ID</th>\n",
              "      <th>State</th>\n",
              "      <th>Date</th>\n",
              "      <th>Time</th>\n",
              "      <th>Reason</th>\n",
              "      <th>Number_of_Deaths</th>\n",
              "      <th>Number_of_Injuries</th>\n",
              "      <th>Road_Type</th>\n",
              "      <th>Weather_Conditions</th>\n",
              "      <th>Alcohol_Involved</th>\n",
              "      <th>Driver_Fatigue</th>\n",
              "      <th>Road_Conditions</th>\n",
              "      <th>Speed_Limit</th>\n",
              "    </tr>\n",
              "  </thead>\n",
              "  <tbody>\n",
              "    <tr>\n",
              "      <th>0</th>\n",
              "      <td>1001</td>\n",
              "      <td>Andhra Pradesh</td>\n",
              "      <td>2021-05-01</td>\n",
              "      <td>15:30:00</td>\n",
              "      <td>Speeding</td>\n",
              "      <td>2</td>\n",
              "      <td>3</td>\n",
              "      <td>Rural</td>\n",
              "      <td>Sunny</td>\n",
              "      <td>No</td>\n",
              "      <td>No</td>\n",
              "      <td>Poor</td>\n",
              "      <td>60.0</td>\n",
              "    </tr>\n",
              "    <tr>\n",
              "      <th>1</th>\n",
              "      <td>1002</td>\n",
              "      <td>Karnataka</td>\n",
              "      <td>2021-05-02</td>\n",
              "      <td>18:45:00</td>\n",
              "      <td>Drunk Driving</td>\n",
              "      <td>1</td>\n",
              "      <td>4</td>\n",
              "      <td>Urban</td>\n",
              "      <td>Rainy</td>\n",
              "      <td>Yes</td>\n",
              "      <td>No</td>\n",
              "      <td>Good</td>\n",
              "      <td>40.0</td>\n",
              "    </tr>\n",
              "    <tr>\n",
              "      <th>2</th>\n",
              "      <td>1003</td>\n",
              "      <td>Delhi</td>\n",
              "      <td>2021-05-03</td>\n",
              "      <td>10:15:00</td>\n",
              "      <td>Poor Road Conditions</td>\n",
              "      <td>0</td>\n",
              "      <td>2</td>\n",
              "      <td>Urban</td>\n",
              "      <td>Foggy</td>\n",
              "      <td>No</td>\n",
              "      <td>No</td>\n",
              "      <td>Poor</td>\n",
              "      <td>50.0</td>\n",
              "    </tr>\n",
              "    <tr>\n",
              "      <th>3</th>\n",
              "      <td>1004</td>\n",
              "      <td>Maharashtra</td>\n",
              "      <td>2021-05-04</td>\n",
              "      <td>06:00:00</td>\n",
              "      <td>Driver Fatigue</td>\n",
              "      <td>3</td>\n",
              "      <td>6</td>\n",
              "      <td>Rural</td>\n",
              "      <td>Sunny</td>\n",
              "      <td>No</td>\n",
              "      <td>Yes</td>\n",
              "      <td>Good</td>\n",
              "      <td>70.0</td>\n",
              "    </tr>\n",
              "    <tr>\n",
              "      <th>4</th>\n",
              "      <td>1005</td>\n",
              "      <td>Uttar Pradesh</td>\n",
              "      <td>2021-05-05</td>\n",
              "      <td>21:20:00</td>\n",
              "      <td>Speeding</td>\n",
              "      <td>1</td>\n",
              "      <td>2</td>\n",
              "      <td>Rural</td>\n",
              "      <td>Sunny</td>\n",
              "      <td>No</td>\n",
              "      <td>No</td>\n",
              "      <td>Fair</td>\n",
              "      <td>80.0</td>\n",
              "    </tr>\n",
              "  </tbody>\n",
              "</table>\n",
              "</div>\n",
              "    <div class=\"colab-df-buttons\">\n",
              "\n",
              "  <div class=\"colab-df-container\">\n",
              "    <button class=\"colab-df-convert\" onclick=\"convertToInteractive('df-d21fe406-9388-4706-b37a-8bc55fddd1c7')\"\n",
              "            title=\"Convert this dataframe to an interactive table.\"\n",
              "            style=\"display:none;\">\n",
              "\n",
              "  <svg xmlns=\"http://www.w3.org/2000/svg\" height=\"24px\" viewBox=\"0 -960 960 960\">\n",
              "    <path d=\"M120-120v-720h720v720H120Zm60-500h600v-160H180v160Zm220 220h160v-160H400v160Zm0 220h160v-160H400v160ZM180-400h160v-160H180v160Zm440 0h160v-160H620v160ZM180-180h160v-160H180v160Zm440 0h160v-160H620v160Z\"/>\n",
              "  </svg>\n",
              "    </button>\n",
              "\n",
              "  <style>\n",
              "    .colab-df-container {\n",
              "      display:flex;\n",
              "      gap: 12px;\n",
              "    }\n",
              "\n",
              "    .colab-df-convert {\n",
              "      background-color: #E8F0FE;\n",
              "      border: none;\n",
              "      border-radius: 50%;\n",
              "      cursor: pointer;\n",
              "      display: none;\n",
              "      fill: #1967D2;\n",
              "      height: 32px;\n",
              "      padding: 0 0 0 0;\n",
              "      width: 32px;\n",
              "    }\n",
              "\n",
              "    .colab-df-convert:hover {\n",
              "      background-color: #E2EBFA;\n",
              "      box-shadow: 0px 1px 2px rgba(60, 64, 67, 0.3), 0px 1px 3px 1px rgba(60, 64, 67, 0.15);\n",
              "      fill: #174EA6;\n",
              "    }\n",
              "\n",
              "    .colab-df-buttons div {\n",
              "      margin-bottom: 4px;\n",
              "    }\n",
              "\n",
              "    [theme=dark] .colab-df-convert {\n",
              "      background-color: #3B4455;\n",
              "      fill: #D2E3FC;\n",
              "    }\n",
              "\n",
              "    [theme=dark] .colab-df-convert:hover {\n",
              "      background-color: #434B5C;\n",
              "      box-shadow: 0px 1px 3px 1px rgba(0, 0, 0, 0.15);\n",
              "      filter: drop-shadow(0px 1px 2px rgba(0, 0, 0, 0.3));\n",
              "      fill: #FFFFFF;\n",
              "    }\n",
              "  </style>\n",
              "\n",
              "    <script>\n",
              "      const buttonEl =\n",
              "        document.querySelector('#df-d21fe406-9388-4706-b37a-8bc55fddd1c7 button.colab-df-convert');\n",
              "      buttonEl.style.display =\n",
              "        google.colab.kernel.accessAllowed ? 'block' : 'none';\n",
              "\n",
              "      async function convertToInteractive(key) {\n",
              "        const element = document.querySelector('#df-d21fe406-9388-4706-b37a-8bc55fddd1c7');\n",
              "        const dataTable =\n",
              "          await google.colab.kernel.invokeFunction('convertToInteractive',\n",
              "                                                    [key], {});\n",
              "        if (!dataTable) return;\n",
              "\n",
              "        const docLinkHtml = 'Like what you see? Visit the ' +\n",
              "          '<a target=\"_blank\" href=https://colab.research.google.com/notebooks/data_table.ipynb>data table notebook</a>'\n",
              "          + ' to learn more about interactive tables.';\n",
              "        element.innerHTML = '';\n",
              "        dataTable['output_type'] = 'display_data';\n",
              "        await google.colab.output.renderOutput(dataTable, element);\n",
              "        const docLink = document.createElement('div');\n",
              "        docLink.innerHTML = docLinkHtml;\n",
              "        element.appendChild(docLink);\n",
              "      }\n",
              "    </script>\n",
              "  </div>\n",
              "\n",
              "\n",
              "<div id=\"df-051b33b0-2742-451a-bf72-27451705a6a4\">\n",
              "  <button class=\"colab-df-quickchart\" onclick=\"quickchart('df-051b33b0-2742-451a-bf72-27451705a6a4')\"\n",
              "            title=\"Suggest charts\"\n",
              "            style=\"display:none;\">\n",
              "\n",
              "<svg xmlns=\"http://www.w3.org/2000/svg\" height=\"24px\"viewBox=\"0 0 24 24\"\n",
              "     width=\"24px\">\n",
              "    <g>\n",
              "        <path d=\"M19 3H5c-1.1 0-2 .9-2 2v14c0 1.1.9 2 2 2h14c1.1 0 2-.9 2-2V5c0-1.1-.9-2-2-2zM9 17H7v-7h2v7zm4 0h-2V7h2v10zm4 0h-2v-4h2v4z\"/>\n",
              "    </g>\n",
              "</svg>\n",
              "  </button>\n",
              "\n",
              "<style>\n",
              "  .colab-df-quickchart {\n",
              "      --bg-color: #E8F0FE;\n",
              "      --fill-color: #1967D2;\n",
              "      --hover-bg-color: #E2EBFA;\n",
              "      --hover-fill-color: #174EA6;\n",
              "      --disabled-fill-color: #AAA;\n",
              "      --disabled-bg-color: #DDD;\n",
              "  }\n",
              "\n",
              "  [theme=dark] .colab-df-quickchart {\n",
              "      --bg-color: #3B4455;\n",
              "      --fill-color: #D2E3FC;\n",
              "      --hover-bg-color: #434B5C;\n",
              "      --hover-fill-color: #FFFFFF;\n",
              "      --disabled-bg-color: #3B4455;\n",
              "      --disabled-fill-color: #666;\n",
              "  }\n",
              "\n",
              "  .colab-df-quickchart {\n",
              "    background-color: var(--bg-color);\n",
              "    border: none;\n",
              "    border-radius: 50%;\n",
              "    cursor: pointer;\n",
              "    display: none;\n",
              "    fill: var(--fill-color);\n",
              "    height: 32px;\n",
              "    padding: 0;\n",
              "    width: 32px;\n",
              "  }\n",
              "\n",
              "  .colab-df-quickchart:hover {\n",
              "    background-color: var(--hover-bg-color);\n",
              "    box-shadow: 0 1px 2px rgba(60, 64, 67, 0.3), 0 1px 3px 1px rgba(60, 64, 67, 0.15);\n",
              "    fill: var(--button-hover-fill-color);\n",
              "  }\n",
              "\n",
              "  .colab-df-quickchart-complete:disabled,\n",
              "  .colab-df-quickchart-complete:disabled:hover {\n",
              "    background-color: var(--disabled-bg-color);\n",
              "    fill: var(--disabled-fill-color);\n",
              "    box-shadow: none;\n",
              "  }\n",
              "\n",
              "  .colab-df-spinner {\n",
              "    border: 2px solid var(--fill-color);\n",
              "    border-color: transparent;\n",
              "    border-bottom-color: var(--fill-color);\n",
              "    animation:\n",
              "      spin 1s steps(1) infinite;\n",
              "  }\n",
              "\n",
              "  @keyframes spin {\n",
              "    0% {\n",
              "      border-color: transparent;\n",
              "      border-bottom-color: var(--fill-color);\n",
              "      border-left-color: var(--fill-color);\n",
              "    }\n",
              "    20% {\n",
              "      border-color: transparent;\n",
              "      border-left-color: var(--fill-color);\n",
              "      border-top-color: var(--fill-color);\n",
              "    }\n",
              "    30% {\n",
              "      border-color: transparent;\n",
              "      border-left-color: var(--fill-color);\n",
              "      border-top-color: var(--fill-color);\n",
              "      border-right-color: var(--fill-color);\n",
              "    }\n",
              "    40% {\n",
              "      border-color: transparent;\n",
              "      border-right-color: var(--fill-color);\n",
              "      border-top-color: var(--fill-color);\n",
              "    }\n",
              "    60% {\n",
              "      border-color: transparent;\n",
              "      border-right-color: var(--fill-color);\n",
              "    }\n",
              "    80% {\n",
              "      border-color: transparent;\n",
              "      border-right-color: var(--fill-color);\n",
              "      border-bottom-color: var(--fill-color);\n",
              "    }\n",
              "    90% {\n",
              "      border-color: transparent;\n",
              "      border-bottom-color: var(--fill-color);\n",
              "    }\n",
              "  }\n",
              "</style>\n",
              "\n",
              "  <script>\n",
              "    async function quickchart(key) {\n",
              "      const quickchartButtonEl =\n",
              "        document.querySelector('#' + key + ' button');\n",
              "      quickchartButtonEl.disabled = true;  // To prevent multiple clicks.\n",
              "      quickchartButtonEl.classList.add('colab-df-spinner');\n",
              "      try {\n",
              "        const charts = await google.colab.kernel.invokeFunction(\n",
              "            'suggestCharts', [key], {});\n",
              "      } catch (error) {\n",
              "        console.error('Error during call to suggestCharts:', error);\n",
              "      }\n",
              "      quickchartButtonEl.classList.remove('colab-df-spinner');\n",
              "      quickchartButtonEl.classList.add('colab-df-quickchart-complete');\n",
              "    }\n",
              "    (() => {\n",
              "      let quickchartButtonEl =\n",
              "        document.querySelector('#df-051b33b0-2742-451a-bf72-27451705a6a4 button');\n",
              "      quickchartButtonEl.style.display =\n",
              "        google.colab.kernel.accessAllowed ? 'block' : 'none';\n",
              "    })();\n",
              "  </script>\n",
              "</div>\n",
              "\n",
              "    </div>\n",
              "  </div>\n"
            ],
            "application/vnd.google.colaboratory.intrinsic+json": {
              "type": "dataframe",
              "variable_name": "rd_accident_df",
              "summary": "{\n  \"name\": \"rd_accident_df\",\n  \"rows\": 300,\n  \"fields\": [\n    {\n      \"column\": \"Accident_ID\",\n      \"properties\": {\n        \"dtype\": \"string\",\n        \"num_unique_values\": 300,\n        \"samples\": [\n          \"1204\",\n          \"1267\",\n          \"1153\"\n        ],\n        \"semantic_type\": \"\",\n        \"description\": \"\"\n      }\n    },\n    {\n      \"column\": \"State\",\n      \"properties\": {\n        \"dtype\": \"category\",\n        \"num_unique_values\": 28,\n        \"samples\": [\n          \"Assam\",\n          \"Nagaland\",\n          \"Gujarat\"\n        ],\n        \"semantic_type\": \"\",\n        \"description\": \"\"\n      }\n    },\n    {\n      \"column\": \"Date\",\n      \"properties\": {\n        \"dtype\": \"string\",\n        \"num_unique_values\": 211,\n        \"samples\": [\n          \"2021-07-18\",\n          \"2022-06-01\",\n          \"2022-02-12\"\n        ],\n        \"semantic_type\": \"\",\n        \"description\": \"\"\n      }\n    },\n    {\n      \"column\": \"Time\",\n      \"properties\": {\n        \"dtype\": \"category\",\n        \"num_unique_values\": 128,\n        \"samples\": [\n          \"12:15:00\",\n          \"09:45:00\",\n          \"20:10:00\"\n        ],\n        \"semantic_type\": \"\",\n        \"description\": \"\"\n      }\n    },\n    {\n      \"column\": \"Reason\",\n      \"properties\": {\n        \"dtype\": \"category\",\n        \"num_unique_values\": 8,\n        \"samples\": [\n          \"Drunk Driving\",\n          \"Drunk driving\",\n          \"Speeding\"\n        ],\n        \"semantic_type\": \"\",\n        \"description\": \"\"\n      }\n    },\n    {\n      \"column\": \"Number_of_Deaths\",\n      \"properties\": {\n        \"dtype\": \"number\",\n        \"std\": 1,\n        \"min\": 0,\n        \"max\": 5,\n        \"num_unique_values\": 6,\n        \"samples\": [\n          2,\n          1,\n          5\n        ],\n        \"semantic_type\": \"\",\n        \"description\": \"\"\n      }\n    },\n    {\n      \"column\": \"Number_of_Injuries\",\n      \"properties\": {\n        \"dtype\": \"category\",\n        \"num_unique_values\": 8,\n        \"samples\": [\n          \"4\",\n          \"5\",\n          \"3\"\n        ],\n        \"semantic_type\": \"\",\n        \"description\": \"\"\n      }\n    },\n    {\n      \"column\": \"Road_Type\",\n      \"properties\": {\n        \"dtype\": \"category\",\n        \"num_unique_values\": 3,\n        \"samples\": [\n          \"Rural\",\n          \"Urban\",\n          \"Foggy\"\n        ],\n        \"semantic_type\": \"\",\n        \"description\": \"\"\n      }\n    },\n    {\n      \"column\": \"Weather_Conditions\",\n      \"properties\": {\n        \"dtype\": \"category\",\n        \"num_unique_values\": 6,\n        \"samples\": [\n          \"Sunny\",\n          \"Rainy\",\n          \"No\"\n        ],\n        \"semantic_type\": \"\",\n        \"description\": \"\"\n      }\n    },\n    {\n      \"column\": \"Alcohol_Involved\",\n      \"properties\": {\n        \"dtype\": \"category\",\n        \"num_unique_values\": 2,\n        \"samples\": [\n          \"Yes\",\n          \"No\"\n        ],\n        \"semantic_type\": \"\",\n        \"description\": \"\"\n      }\n    },\n    {\n      \"column\": \"Driver_Fatigue\",\n      \"properties\": {\n        \"dtype\": \"category\",\n        \"num_unique_values\": 3,\n        \"samples\": [\n          \"No\",\n          \"Yes\"\n        ],\n        \"semantic_type\": \"\",\n        \"description\": \"\"\n      }\n    },\n    {\n      \"column\": \"Road_Conditions\",\n      \"properties\": {\n        \"dtype\": \"category\",\n        \"num_unique_values\": 4,\n        \"samples\": [\n          \"Good\",\n          \"50\"\n        ],\n        \"semantic_type\": \"\",\n        \"description\": \"\"\n      }\n    },\n    {\n      \"column\": \"Speed_Limit\",\n      \"properties\": {\n        \"dtype\": \"number\",\n        \"std\": 13.042389575449887,\n        \"min\": 30.0,\n        \"max\": 90.0,\n        \"num_unique_values\": 7,\n        \"samples\": [\n          60.0,\n          40.0\n        ],\n        \"semantic_type\": \"\",\n        \"description\": \"\"\n      }\n    }\n  ]\n}"
            }
          },
          "metadata": {},
          "execution_count": 4
        }
      ]
    },
    {
      "cell_type": "code",
      "source": [
        "rd_accident_df.tail()"
      ],
      "metadata": {
        "colab": {
          "base_uri": "https://localhost:8080/",
          "height": 313
        },
        "id": "j6fAQSEz8dC-",
        "outputId": "f53e0beb-3c2d-40d9-8275-a7b45efe7630"
      },
      "execution_count": null,
      "outputs": [
        {
          "output_type": "execute_result",
          "data": {
            "text/plain": [
              "    Accident_ID           State        Date      Time                Reason  \\\n",
              "295        1296          Odisha  2022-04-16  16:30:00  Poor road conditions   \n",
              "296        1297       Karnataka  2022-04-17  08:50:00              Speeding   \n",
              "297        1298  Andhra Pradesh  2022-04-18  03:00:00        Driver fatigue   \n",
              "298        1299       Telangana  2022-04-19  20:10:00              Speeding   \n",
              "299        1300          Kerala  2022-04-20  11:45:00         Drunk driving   \n",
              "\n",
              "     Number_of_Deaths Number_of_Injuries Road_Type Weather_Conditions  \\\n",
              "295                 1                  1     Rural              Sunny   \n",
              "296                 0                  4     Urban              Sunny   \n",
              "297                 1                  2     Rural              Sunny   \n",
              "298                 3                  1     Rural              Snowy   \n",
              "299                 2                  2     Urban              Rainy   \n",
              "\n",
              "    Alcohol_Involved Driver_Fatigue Road_Conditions  Speed_Limit  \n",
              "295               No            Yes            Fair         70.0  \n",
              "296               No             No            Fair         50.0  \n",
              "297               No            Yes            Good         40.0  \n",
              "298              Yes             No            Poor         60.0  \n",
              "299              Yes             No            Poor         70.0  "
            ],
            "text/html": [
              "\n",
              "  <div id=\"df-ac624670-c662-413f-81a5-d4cbb9f21b9f\" class=\"colab-df-container\">\n",
              "    <div>\n",
              "<style scoped>\n",
              "    .dataframe tbody tr th:only-of-type {\n",
              "        vertical-align: middle;\n",
              "    }\n",
              "\n",
              "    .dataframe tbody tr th {\n",
              "        vertical-align: top;\n",
              "    }\n",
              "\n",
              "    .dataframe thead th {\n",
              "        text-align: right;\n",
              "    }\n",
              "</style>\n",
              "<table border=\"1\" class=\"dataframe\">\n",
              "  <thead>\n",
              "    <tr style=\"text-align: right;\">\n",
              "      <th></th>\n",
              "      <th>Accident_ID</th>\n",
              "      <th>State</th>\n",
              "      <th>Date</th>\n",
              "      <th>Time</th>\n",
              "      <th>Reason</th>\n",
              "      <th>Number_of_Deaths</th>\n",
              "      <th>Number_of_Injuries</th>\n",
              "      <th>Road_Type</th>\n",
              "      <th>Weather_Conditions</th>\n",
              "      <th>Alcohol_Involved</th>\n",
              "      <th>Driver_Fatigue</th>\n",
              "      <th>Road_Conditions</th>\n",
              "      <th>Speed_Limit</th>\n",
              "    </tr>\n",
              "  </thead>\n",
              "  <tbody>\n",
              "    <tr>\n",
              "      <th>295</th>\n",
              "      <td>1296</td>\n",
              "      <td>Odisha</td>\n",
              "      <td>2022-04-16</td>\n",
              "      <td>16:30:00</td>\n",
              "      <td>Poor road conditions</td>\n",
              "      <td>1</td>\n",
              "      <td>1</td>\n",
              "      <td>Rural</td>\n",
              "      <td>Sunny</td>\n",
              "      <td>No</td>\n",
              "      <td>Yes</td>\n",
              "      <td>Fair</td>\n",
              "      <td>70.0</td>\n",
              "    </tr>\n",
              "    <tr>\n",
              "      <th>296</th>\n",
              "      <td>1297</td>\n",
              "      <td>Karnataka</td>\n",
              "      <td>2022-04-17</td>\n",
              "      <td>08:50:00</td>\n",
              "      <td>Speeding</td>\n",
              "      <td>0</td>\n",
              "      <td>4</td>\n",
              "      <td>Urban</td>\n",
              "      <td>Sunny</td>\n",
              "      <td>No</td>\n",
              "      <td>No</td>\n",
              "      <td>Fair</td>\n",
              "      <td>50.0</td>\n",
              "    </tr>\n",
              "    <tr>\n",
              "      <th>297</th>\n",
              "      <td>1298</td>\n",
              "      <td>Andhra Pradesh</td>\n",
              "      <td>2022-04-18</td>\n",
              "      <td>03:00:00</td>\n",
              "      <td>Driver fatigue</td>\n",
              "      <td>1</td>\n",
              "      <td>2</td>\n",
              "      <td>Rural</td>\n",
              "      <td>Sunny</td>\n",
              "      <td>No</td>\n",
              "      <td>Yes</td>\n",
              "      <td>Good</td>\n",
              "      <td>40.0</td>\n",
              "    </tr>\n",
              "    <tr>\n",
              "      <th>298</th>\n",
              "      <td>1299</td>\n",
              "      <td>Telangana</td>\n",
              "      <td>2022-04-19</td>\n",
              "      <td>20:10:00</td>\n",
              "      <td>Speeding</td>\n",
              "      <td>3</td>\n",
              "      <td>1</td>\n",
              "      <td>Rural</td>\n",
              "      <td>Snowy</td>\n",
              "      <td>Yes</td>\n",
              "      <td>No</td>\n",
              "      <td>Poor</td>\n",
              "      <td>60.0</td>\n",
              "    </tr>\n",
              "    <tr>\n",
              "      <th>299</th>\n",
              "      <td>1300</td>\n",
              "      <td>Kerala</td>\n",
              "      <td>2022-04-20</td>\n",
              "      <td>11:45:00</td>\n",
              "      <td>Drunk driving</td>\n",
              "      <td>2</td>\n",
              "      <td>2</td>\n",
              "      <td>Urban</td>\n",
              "      <td>Rainy</td>\n",
              "      <td>Yes</td>\n",
              "      <td>No</td>\n",
              "      <td>Poor</td>\n",
              "      <td>70.0</td>\n",
              "    </tr>\n",
              "  </tbody>\n",
              "</table>\n",
              "</div>\n",
              "    <div class=\"colab-df-buttons\">\n",
              "\n",
              "  <div class=\"colab-df-container\">\n",
              "    <button class=\"colab-df-convert\" onclick=\"convertToInteractive('df-ac624670-c662-413f-81a5-d4cbb9f21b9f')\"\n",
              "            title=\"Convert this dataframe to an interactive table.\"\n",
              "            style=\"display:none;\">\n",
              "\n",
              "  <svg xmlns=\"http://www.w3.org/2000/svg\" height=\"24px\" viewBox=\"0 -960 960 960\">\n",
              "    <path d=\"M120-120v-720h720v720H120Zm60-500h600v-160H180v160Zm220 220h160v-160H400v160Zm0 220h160v-160H400v160ZM180-400h160v-160H180v160Zm440 0h160v-160H620v160ZM180-180h160v-160H180v160Zm440 0h160v-160H620v160Z\"/>\n",
              "  </svg>\n",
              "    </button>\n",
              "\n",
              "  <style>\n",
              "    .colab-df-container {\n",
              "      display:flex;\n",
              "      gap: 12px;\n",
              "    }\n",
              "\n",
              "    .colab-df-convert {\n",
              "      background-color: #E8F0FE;\n",
              "      border: none;\n",
              "      border-radius: 50%;\n",
              "      cursor: pointer;\n",
              "      display: none;\n",
              "      fill: #1967D2;\n",
              "      height: 32px;\n",
              "      padding: 0 0 0 0;\n",
              "      width: 32px;\n",
              "    }\n",
              "\n",
              "    .colab-df-convert:hover {\n",
              "      background-color: #E2EBFA;\n",
              "      box-shadow: 0px 1px 2px rgba(60, 64, 67, 0.3), 0px 1px 3px 1px rgba(60, 64, 67, 0.15);\n",
              "      fill: #174EA6;\n",
              "    }\n",
              "\n",
              "    .colab-df-buttons div {\n",
              "      margin-bottom: 4px;\n",
              "    }\n",
              "\n",
              "    [theme=dark] .colab-df-convert {\n",
              "      background-color: #3B4455;\n",
              "      fill: #D2E3FC;\n",
              "    }\n",
              "\n",
              "    [theme=dark] .colab-df-convert:hover {\n",
              "      background-color: #434B5C;\n",
              "      box-shadow: 0px 1px 3px 1px rgba(0, 0, 0, 0.15);\n",
              "      filter: drop-shadow(0px 1px 2px rgba(0, 0, 0, 0.3));\n",
              "      fill: #FFFFFF;\n",
              "    }\n",
              "  </style>\n",
              "\n",
              "    <script>\n",
              "      const buttonEl =\n",
              "        document.querySelector('#df-ac624670-c662-413f-81a5-d4cbb9f21b9f button.colab-df-convert');\n",
              "      buttonEl.style.display =\n",
              "        google.colab.kernel.accessAllowed ? 'block' : 'none';\n",
              "\n",
              "      async function convertToInteractive(key) {\n",
              "        const element = document.querySelector('#df-ac624670-c662-413f-81a5-d4cbb9f21b9f');\n",
              "        const dataTable =\n",
              "          await google.colab.kernel.invokeFunction('convertToInteractive',\n",
              "                                                    [key], {});\n",
              "        if (!dataTable) return;\n",
              "\n",
              "        const docLinkHtml = 'Like what you see? Visit the ' +\n",
              "          '<a target=\"_blank\" href=https://colab.research.google.com/notebooks/data_table.ipynb>data table notebook</a>'\n",
              "          + ' to learn more about interactive tables.';\n",
              "        element.innerHTML = '';\n",
              "        dataTable['output_type'] = 'display_data';\n",
              "        await google.colab.output.renderOutput(dataTable, element);\n",
              "        const docLink = document.createElement('div');\n",
              "        docLink.innerHTML = docLinkHtml;\n",
              "        element.appendChild(docLink);\n",
              "      }\n",
              "    </script>\n",
              "  </div>\n",
              "\n",
              "\n",
              "<div id=\"df-0734de6f-ed95-4d11-8c48-490779919b9a\">\n",
              "  <button class=\"colab-df-quickchart\" onclick=\"quickchart('df-0734de6f-ed95-4d11-8c48-490779919b9a')\"\n",
              "            title=\"Suggest charts\"\n",
              "            style=\"display:none;\">\n",
              "\n",
              "<svg xmlns=\"http://www.w3.org/2000/svg\" height=\"24px\"viewBox=\"0 0 24 24\"\n",
              "     width=\"24px\">\n",
              "    <g>\n",
              "        <path d=\"M19 3H5c-1.1 0-2 .9-2 2v14c0 1.1.9 2 2 2h14c1.1 0 2-.9 2-2V5c0-1.1-.9-2-2-2zM9 17H7v-7h2v7zm4 0h-2V7h2v10zm4 0h-2v-4h2v4z\"/>\n",
              "    </g>\n",
              "</svg>\n",
              "  </button>\n",
              "\n",
              "<style>\n",
              "  .colab-df-quickchart {\n",
              "      --bg-color: #E8F0FE;\n",
              "      --fill-color: #1967D2;\n",
              "      --hover-bg-color: #E2EBFA;\n",
              "      --hover-fill-color: #174EA6;\n",
              "      --disabled-fill-color: #AAA;\n",
              "      --disabled-bg-color: #DDD;\n",
              "  }\n",
              "\n",
              "  [theme=dark] .colab-df-quickchart {\n",
              "      --bg-color: #3B4455;\n",
              "      --fill-color: #D2E3FC;\n",
              "      --hover-bg-color: #434B5C;\n",
              "      --hover-fill-color: #FFFFFF;\n",
              "      --disabled-bg-color: #3B4455;\n",
              "      --disabled-fill-color: #666;\n",
              "  }\n",
              "\n",
              "  .colab-df-quickchart {\n",
              "    background-color: var(--bg-color);\n",
              "    border: none;\n",
              "    border-radius: 50%;\n",
              "    cursor: pointer;\n",
              "    display: none;\n",
              "    fill: var(--fill-color);\n",
              "    height: 32px;\n",
              "    padding: 0;\n",
              "    width: 32px;\n",
              "  }\n",
              "\n",
              "  .colab-df-quickchart:hover {\n",
              "    background-color: var(--hover-bg-color);\n",
              "    box-shadow: 0 1px 2px rgba(60, 64, 67, 0.3), 0 1px 3px 1px rgba(60, 64, 67, 0.15);\n",
              "    fill: var(--button-hover-fill-color);\n",
              "  }\n",
              "\n",
              "  .colab-df-quickchart-complete:disabled,\n",
              "  .colab-df-quickchart-complete:disabled:hover {\n",
              "    background-color: var(--disabled-bg-color);\n",
              "    fill: var(--disabled-fill-color);\n",
              "    box-shadow: none;\n",
              "  }\n",
              "\n",
              "  .colab-df-spinner {\n",
              "    border: 2px solid var(--fill-color);\n",
              "    border-color: transparent;\n",
              "    border-bottom-color: var(--fill-color);\n",
              "    animation:\n",
              "      spin 1s steps(1) infinite;\n",
              "  }\n",
              "\n",
              "  @keyframes spin {\n",
              "    0% {\n",
              "      border-color: transparent;\n",
              "      border-bottom-color: var(--fill-color);\n",
              "      border-left-color: var(--fill-color);\n",
              "    }\n",
              "    20% {\n",
              "      border-color: transparent;\n",
              "      border-left-color: var(--fill-color);\n",
              "      border-top-color: var(--fill-color);\n",
              "    }\n",
              "    30% {\n",
              "      border-color: transparent;\n",
              "      border-left-color: var(--fill-color);\n",
              "      border-top-color: var(--fill-color);\n",
              "      border-right-color: var(--fill-color);\n",
              "    }\n",
              "    40% {\n",
              "      border-color: transparent;\n",
              "      border-right-color: var(--fill-color);\n",
              "      border-top-color: var(--fill-color);\n",
              "    }\n",
              "    60% {\n",
              "      border-color: transparent;\n",
              "      border-right-color: var(--fill-color);\n",
              "    }\n",
              "    80% {\n",
              "      border-color: transparent;\n",
              "      border-right-color: var(--fill-color);\n",
              "      border-bottom-color: var(--fill-color);\n",
              "    }\n",
              "    90% {\n",
              "      border-color: transparent;\n",
              "      border-bottom-color: var(--fill-color);\n",
              "    }\n",
              "  }\n",
              "</style>\n",
              "\n",
              "  <script>\n",
              "    async function quickchart(key) {\n",
              "      const quickchartButtonEl =\n",
              "        document.querySelector('#' + key + ' button');\n",
              "      quickchartButtonEl.disabled = true;  // To prevent multiple clicks.\n",
              "      quickchartButtonEl.classList.add('colab-df-spinner');\n",
              "      try {\n",
              "        const charts = await google.colab.kernel.invokeFunction(\n",
              "            'suggestCharts', [key], {});\n",
              "      } catch (error) {\n",
              "        console.error('Error during call to suggestCharts:', error);\n",
              "      }\n",
              "      quickchartButtonEl.classList.remove('colab-df-spinner');\n",
              "      quickchartButtonEl.classList.add('colab-df-quickchart-complete');\n",
              "    }\n",
              "    (() => {\n",
              "      let quickchartButtonEl =\n",
              "        document.querySelector('#df-0734de6f-ed95-4d11-8c48-490779919b9a button');\n",
              "      quickchartButtonEl.style.display =\n",
              "        google.colab.kernel.accessAllowed ? 'block' : 'none';\n",
              "    })();\n",
              "  </script>\n",
              "</div>\n",
              "\n",
              "    </div>\n",
              "  </div>\n"
            ],
            "application/vnd.google.colaboratory.intrinsic+json": {
              "type": "dataframe",
              "repr_error": "0"
            }
          },
          "metadata": {},
          "execution_count": 5
        }
      ]
    },
    {
      "cell_type": "code",
      "source": [
        "rd_accident_df.info()"
      ],
      "metadata": {
        "colab": {
          "base_uri": "https://localhost:8080/"
        },
        "id": "UJQrC5ow8tT1",
        "outputId": "80afa2a5-1e1c-47a8-b1e7-4df99f3e2b3c"
      },
      "execution_count": null,
      "outputs": [
        {
          "output_type": "stream",
          "name": "stdout",
          "text": [
            "<class 'pandas.core.frame.DataFrame'>\n",
            "RangeIndex: 300 entries, 0 to 299\n",
            "Data columns (total 13 columns):\n",
            " #   Column              Non-Null Count  Dtype  \n",
            "---  ------              --------------  -----  \n",
            " 0   Accident_ID         300 non-null    object \n",
            " 1   State               300 non-null    object \n",
            " 2   Date                300 non-null    object \n",
            " 3   Time                300 non-null    object \n",
            " 4   Reason              300 non-null    object \n",
            " 5   Number_of_Deaths    300 non-null    int64  \n",
            " 6   Number_of_Injuries  300 non-null    object \n",
            " 7   Road_Type           300 non-null    object \n",
            " 8   Weather_Conditions  300 non-null    object \n",
            " 9   Alcohol_Involved    300 non-null    object \n",
            " 10  Driver_Fatigue      300 non-null    object \n",
            " 11  Road_Conditions     300 non-null    object \n",
            " 12  Speed_Limit         299 non-null    float64\n",
            "dtypes: float64(1), int64(1), object(11)\n",
            "memory usage: 30.6+ KB\n"
          ]
        }
      ]
    },
    {
      "cell_type": "code",
      "source": [
        "rd_accident_df.describe()"
      ],
      "metadata": {
        "colab": {
          "base_uri": "https://localhost:8080/",
          "height": 300
        },
        "id": "Lq2WQLac8wVn",
        "outputId": "efe11ef2-b95e-4f15-f51b-443926465b98"
      },
      "execution_count": null,
      "outputs": [
        {
          "output_type": "execute_result",
          "data": {
            "text/plain": [
              "       Number_of_Deaths  Speed_Limit\n",
              "count        300.000000   299.000000\n",
              "mean           1.766667    56.989967\n",
              "std            1.090651    13.042390\n",
              "min            0.000000    30.000000\n",
              "25%            1.000000    50.000000\n",
              "50%            2.000000    60.000000\n",
              "75%            3.000000    60.000000\n",
              "max            5.000000    90.000000"
            ],
            "text/html": [
              "\n",
              "  <div id=\"df-6d3a57bf-9166-4ae6-8657-bf57085fd510\" class=\"colab-df-container\">\n",
              "    <div>\n",
              "<style scoped>\n",
              "    .dataframe tbody tr th:only-of-type {\n",
              "        vertical-align: middle;\n",
              "    }\n",
              "\n",
              "    .dataframe tbody tr th {\n",
              "        vertical-align: top;\n",
              "    }\n",
              "\n",
              "    .dataframe thead th {\n",
              "        text-align: right;\n",
              "    }\n",
              "</style>\n",
              "<table border=\"1\" class=\"dataframe\">\n",
              "  <thead>\n",
              "    <tr style=\"text-align: right;\">\n",
              "      <th></th>\n",
              "      <th>Number_of_Deaths</th>\n",
              "      <th>Speed_Limit</th>\n",
              "    </tr>\n",
              "  </thead>\n",
              "  <tbody>\n",
              "    <tr>\n",
              "      <th>count</th>\n",
              "      <td>300.000000</td>\n",
              "      <td>299.000000</td>\n",
              "    </tr>\n",
              "    <tr>\n",
              "      <th>mean</th>\n",
              "      <td>1.766667</td>\n",
              "      <td>56.989967</td>\n",
              "    </tr>\n",
              "    <tr>\n",
              "      <th>std</th>\n",
              "      <td>1.090651</td>\n",
              "      <td>13.042390</td>\n",
              "    </tr>\n",
              "    <tr>\n",
              "      <th>min</th>\n",
              "      <td>0.000000</td>\n",
              "      <td>30.000000</td>\n",
              "    </tr>\n",
              "    <tr>\n",
              "      <th>25%</th>\n",
              "      <td>1.000000</td>\n",
              "      <td>50.000000</td>\n",
              "    </tr>\n",
              "    <tr>\n",
              "      <th>50%</th>\n",
              "      <td>2.000000</td>\n",
              "      <td>60.000000</td>\n",
              "    </tr>\n",
              "    <tr>\n",
              "      <th>75%</th>\n",
              "      <td>3.000000</td>\n",
              "      <td>60.000000</td>\n",
              "    </tr>\n",
              "    <tr>\n",
              "      <th>max</th>\n",
              "      <td>5.000000</td>\n",
              "      <td>90.000000</td>\n",
              "    </tr>\n",
              "  </tbody>\n",
              "</table>\n",
              "</div>\n",
              "    <div class=\"colab-df-buttons\">\n",
              "\n",
              "  <div class=\"colab-df-container\">\n",
              "    <button class=\"colab-df-convert\" onclick=\"convertToInteractive('df-6d3a57bf-9166-4ae6-8657-bf57085fd510')\"\n",
              "            title=\"Convert this dataframe to an interactive table.\"\n",
              "            style=\"display:none;\">\n",
              "\n",
              "  <svg xmlns=\"http://www.w3.org/2000/svg\" height=\"24px\" viewBox=\"0 -960 960 960\">\n",
              "    <path d=\"M120-120v-720h720v720H120Zm60-500h600v-160H180v160Zm220 220h160v-160H400v160Zm0 220h160v-160H400v160ZM180-400h160v-160H180v160Zm440 0h160v-160H620v160ZM180-180h160v-160H180v160Zm440 0h160v-160H620v160Z\"/>\n",
              "  </svg>\n",
              "    </button>\n",
              "\n",
              "  <style>\n",
              "    .colab-df-container {\n",
              "      display:flex;\n",
              "      gap: 12px;\n",
              "    }\n",
              "\n",
              "    .colab-df-convert {\n",
              "      background-color: #E8F0FE;\n",
              "      border: none;\n",
              "      border-radius: 50%;\n",
              "      cursor: pointer;\n",
              "      display: none;\n",
              "      fill: #1967D2;\n",
              "      height: 32px;\n",
              "      padding: 0 0 0 0;\n",
              "      width: 32px;\n",
              "    }\n",
              "\n",
              "    .colab-df-convert:hover {\n",
              "      background-color: #E2EBFA;\n",
              "      box-shadow: 0px 1px 2px rgba(60, 64, 67, 0.3), 0px 1px 3px 1px rgba(60, 64, 67, 0.15);\n",
              "      fill: #174EA6;\n",
              "    }\n",
              "\n",
              "    .colab-df-buttons div {\n",
              "      margin-bottom: 4px;\n",
              "    }\n",
              "\n",
              "    [theme=dark] .colab-df-convert {\n",
              "      background-color: #3B4455;\n",
              "      fill: #D2E3FC;\n",
              "    }\n",
              "\n",
              "    [theme=dark] .colab-df-convert:hover {\n",
              "      background-color: #434B5C;\n",
              "      box-shadow: 0px 1px 3px 1px rgba(0, 0, 0, 0.15);\n",
              "      filter: drop-shadow(0px 1px 2px rgba(0, 0, 0, 0.3));\n",
              "      fill: #FFFFFF;\n",
              "    }\n",
              "  </style>\n",
              "\n",
              "    <script>\n",
              "      const buttonEl =\n",
              "        document.querySelector('#df-6d3a57bf-9166-4ae6-8657-bf57085fd510 button.colab-df-convert');\n",
              "      buttonEl.style.display =\n",
              "        google.colab.kernel.accessAllowed ? 'block' : 'none';\n",
              "\n",
              "      async function convertToInteractive(key) {\n",
              "        const element = document.querySelector('#df-6d3a57bf-9166-4ae6-8657-bf57085fd510');\n",
              "        const dataTable =\n",
              "          await google.colab.kernel.invokeFunction('convertToInteractive',\n",
              "                                                    [key], {});\n",
              "        if (!dataTable) return;\n",
              "\n",
              "        const docLinkHtml = 'Like what you see? Visit the ' +\n",
              "          '<a target=\"_blank\" href=https://colab.research.google.com/notebooks/data_table.ipynb>data table notebook</a>'\n",
              "          + ' to learn more about interactive tables.';\n",
              "        element.innerHTML = '';\n",
              "        dataTable['output_type'] = 'display_data';\n",
              "        await google.colab.output.renderOutput(dataTable, element);\n",
              "        const docLink = document.createElement('div');\n",
              "        docLink.innerHTML = docLinkHtml;\n",
              "        element.appendChild(docLink);\n",
              "      }\n",
              "    </script>\n",
              "  </div>\n",
              "\n",
              "\n",
              "<div id=\"df-0050ffc9-77a5-409e-bc39-b2ae50931440\">\n",
              "  <button class=\"colab-df-quickchart\" onclick=\"quickchart('df-0050ffc9-77a5-409e-bc39-b2ae50931440')\"\n",
              "            title=\"Suggest charts\"\n",
              "            style=\"display:none;\">\n",
              "\n",
              "<svg xmlns=\"http://www.w3.org/2000/svg\" height=\"24px\"viewBox=\"0 0 24 24\"\n",
              "     width=\"24px\">\n",
              "    <g>\n",
              "        <path d=\"M19 3H5c-1.1 0-2 .9-2 2v14c0 1.1.9 2 2 2h14c1.1 0 2-.9 2-2V5c0-1.1-.9-2-2-2zM9 17H7v-7h2v7zm4 0h-2V7h2v10zm4 0h-2v-4h2v4z\"/>\n",
              "    </g>\n",
              "</svg>\n",
              "  </button>\n",
              "\n",
              "<style>\n",
              "  .colab-df-quickchart {\n",
              "      --bg-color: #E8F0FE;\n",
              "      --fill-color: #1967D2;\n",
              "      --hover-bg-color: #E2EBFA;\n",
              "      --hover-fill-color: #174EA6;\n",
              "      --disabled-fill-color: #AAA;\n",
              "      --disabled-bg-color: #DDD;\n",
              "  }\n",
              "\n",
              "  [theme=dark] .colab-df-quickchart {\n",
              "      --bg-color: #3B4455;\n",
              "      --fill-color: #D2E3FC;\n",
              "      --hover-bg-color: #434B5C;\n",
              "      --hover-fill-color: #FFFFFF;\n",
              "      --disabled-bg-color: #3B4455;\n",
              "      --disabled-fill-color: #666;\n",
              "  }\n",
              "\n",
              "  .colab-df-quickchart {\n",
              "    background-color: var(--bg-color);\n",
              "    border: none;\n",
              "    border-radius: 50%;\n",
              "    cursor: pointer;\n",
              "    display: none;\n",
              "    fill: var(--fill-color);\n",
              "    height: 32px;\n",
              "    padding: 0;\n",
              "    width: 32px;\n",
              "  }\n",
              "\n",
              "  .colab-df-quickchart:hover {\n",
              "    background-color: var(--hover-bg-color);\n",
              "    box-shadow: 0 1px 2px rgba(60, 64, 67, 0.3), 0 1px 3px 1px rgba(60, 64, 67, 0.15);\n",
              "    fill: var(--button-hover-fill-color);\n",
              "  }\n",
              "\n",
              "  .colab-df-quickchart-complete:disabled,\n",
              "  .colab-df-quickchart-complete:disabled:hover {\n",
              "    background-color: var(--disabled-bg-color);\n",
              "    fill: var(--disabled-fill-color);\n",
              "    box-shadow: none;\n",
              "  }\n",
              "\n",
              "  .colab-df-spinner {\n",
              "    border: 2px solid var(--fill-color);\n",
              "    border-color: transparent;\n",
              "    border-bottom-color: var(--fill-color);\n",
              "    animation:\n",
              "      spin 1s steps(1) infinite;\n",
              "  }\n",
              "\n",
              "  @keyframes spin {\n",
              "    0% {\n",
              "      border-color: transparent;\n",
              "      border-bottom-color: var(--fill-color);\n",
              "      border-left-color: var(--fill-color);\n",
              "    }\n",
              "    20% {\n",
              "      border-color: transparent;\n",
              "      border-left-color: var(--fill-color);\n",
              "      border-top-color: var(--fill-color);\n",
              "    }\n",
              "    30% {\n",
              "      border-color: transparent;\n",
              "      border-left-color: var(--fill-color);\n",
              "      border-top-color: var(--fill-color);\n",
              "      border-right-color: var(--fill-color);\n",
              "    }\n",
              "    40% {\n",
              "      border-color: transparent;\n",
              "      border-right-color: var(--fill-color);\n",
              "      border-top-color: var(--fill-color);\n",
              "    }\n",
              "    60% {\n",
              "      border-color: transparent;\n",
              "      border-right-color: var(--fill-color);\n",
              "    }\n",
              "    80% {\n",
              "      border-color: transparent;\n",
              "      border-right-color: var(--fill-color);\n",
              "      border-bottom-color: var(--fill-color);\n",
              "    }\n",
              "    90% {\n",
              "      border-color: transparent;\n",
              "      border-bottom-color: var(--fill-color);\n",
              "    }\n",
              "  }\n",
              "</style>\n",
              "\n",
              "  <script>\n",
              "    async function quickchart(key) {\n",
              "      const quickchartButtonEl =\n",
              "        document.querySelector('#' + key + ' button');\n",
              "      quickchartButtonEl.disabled = true;  // To prevent multiple clicks.\n",
              "      quickchartButtonEl.classList.add('colab-df-spinner');\n",
              "      try {\n",
              "        const charts = await google.colab.kernel.invokeFunction(\n",
              "            'suggestCharts', [key], {});\n",
              "      } catch (error) {\n",
              "        console.error('Error during call to suggestCharts:', error);\n",
              "      }\n",
              "      quickchartButtonEl.classList.remove('colab-df-spinner');\n",
              "      quickchartButtonEl.classList.add('colab-df-quickchart-complete');\n",
              "    }\n",
              "    (() => {\n",
              "      let quickchartButtonEl =\n",
              "        document.querySelector('#df-0050ffc9-77a5-409e-bc39-b2ae50931440 button');\n",
              "      quickchartButtonEl.style.display =\n",
              "        google.colab.kernel.accessAllowed ? 'block' : 'none';\n",
              "    })();\n",
              "  </script>\n",
              "</div>\n",
              "\n",
              "    </div>\n",
              "  </div>\n"
            ],
            "application/vnd.google.colaboratory.intrinsic+json": {
              "type": "dataframe",
              "summary": "{\n  \"name\": \"rd_accident_df\",\n  \"rows\": 8,\n  \"fields\": [\n    {\n      \"column\": \"Number_of_Deaths\",\n      \"properties\": {\n        \"dtype\": \"number\",\n        \"std\": 105.3768805040896,\n        \"min\": 0.0,\n        \"max\": 300.0,\n        \"num_unique_values\": 8,\n        \"samples\": [\n          1.7666666666666666,\n          2.0,\n          300.0\n        ],\n        \"semantic_type\": \"\",\n        \"description\": \"\"\n      }\n    },\n    {\n      \"column\": \"Speed_Limit\",\n      \"properties\": {\n        \"dtype\": \"number\",\n        \"std\": 90.41847504829337,\n        \"min\": 13.042389575449887,\n        \"max\": 299.0,\n        \"num_unique_values\": 7,\n        \"samples\": [\n          299.0,\n          56.98996655518395,\n          60.0\n        ],\n        \"semantic_type\": \"\",\n        \"description\": \"\"\n      }\n    }\n  ]\n}"
            }
          },
          "metadata": {},
          "execution_count": 7
        }
      ]
    },
    {
      "cell_type": "code",
      "source": [
        "# .shape function to know the no of rows & columns\n",
        "rd_accident_df.shape"
      ],
      "metadata": {
        "colab": {
          "base_uri": "https://localhost:8080/"
        },
        "id": "sGsGXsr886LC",
        "outputId": "ce6e9402-1819-4eb4-c20e-68f1a562e0c9"
      },
      "execution_count": null,
      "outputs": [
        {
          "output_type": "execute_result",
          "data": {
            "text/plain": [
              "(300, 13)"
            ]
          },
          "metadata": {},
          "execution_count": 38
        }
      ]
    },
    {
      "cell_type": "code",
      "source": [
        "# Sum of Null values\n",
        "rd_accident_df.isnull().sum()"
      ],
      "metadata": {
        "colab": {
          "base_uri": "https://localhost:8080/"
        },
        "id": "WKdR0LHC9APk",
        "outputId": "1fbe4009-8c41-493d-ef62-c6916d2688fd"
      },
      "execution_count": null,
      "outputs": [
        {
          "output_type": "execute_result",
          "data": {
            "text/plain": [
              "Accident_ID           0\n",
              "State                 0\n",
              "Date                  0\n",
              "Time                  0\n",
              "Reason                0\n",
              "Number_of_Deaths      0\n",
              "Number_of_Injuries    0\n",
              "Road_Type             0\n",
              "Weather_Conditions    0\n",
              "Alcohol_Involved      0\n",
              "Driver_Fatigue        0\n",
              "Road_Conditions       0\n",
              "Speed_Limit           1\n",
              "dtype: int64"
            ]
          },
          "metadata": {},
          "execution_count": 9
        }
      ]
    },
    {
      "cell_type": "code",
      "source": [
        "# Duplicated values\n",
        "rd_accident_df.duplicated()"
      ],
      "metadata": {
        "colab": {
          "base_uri": "https://localhost:8080/"
        },
        "id": "nl8MkX4xC12m",
        "outputId": "de7c3dfe-023f-497c-d48f-4c2fb93308d9"
      },
      "execution_count": null,
      "outputs": [
        {
          "output_type": "execute_result",
          "data": {
            "text/plain": [
              "0      False\n",
              "1      False\n",
              "2      False\n",
              "3      False\n",
              "4      False\n",
              "       ...  \n",
              "295    False\n",
              "296    False\n",
              "297    False\n",
              "298    False\n",
              "299    False\n",
              "Length: 300, dtype: bool"
            ]
          },
          "metadata": {},
          "execution_count": 10
        }
      ]
    },
    {
      "cell_type": "markdown",
      "source": [
        "### Data Manipulation"
      ],
      "metadata": {
        "id": "zD1VE1suC6u-"
      }
    },
    {
      "cell_type": "code",
      "source": [
        "# Converting Date as object Format into Date Format\n",
        "rd_accident_df['Date'] = pd.to_datetime(rd_accident_df['Date'],errors='coerce')\n",
        "print(rd_accident_df['Date'])"
      ],
      "metadata": {
        "colab": {
          "base_uri": "https://localhost:8080/"
        },
        "id": "vBCnhbaeC1kp",
        "outputId": "dc971360-8f95-4fa4-df6f-be4876f9d1cc"
      },
      "execution_count": null,
      "outputs": [
        {
          "output_type": "stream",
          "name": "stdout",
          "text": [
            "0     2021-05-01\n",
            "1     2021-05-02\n",
            "2     2021-05-03\n",
            "3     2021-05-04\n",
            "4     2021-05-05\n",
            "         ...    \n",
            "295   2022-04-16\n",
            "296   2022-04-17\n",
            "297   2022-04-18\n",
            "298   2022-04-19\n",
            "299   2022-04-20\n",
            "Name: Date, Length: 300, dtype: datetime64[ns]\n"
          ]
        }
      ]
    },
    {
      "cell_type": "code",
      "source": [
        "# Converting Time as object Foramt into Datetime Format\n",
        "rd_accident_df['Time'] = pd.to_datetime(rd_accident_df['Time'], errors='coerce').dt.time\n"
      ],
      "metadata": {
        "colab": {
          "base_uri": "https://localhost:8080/"
        },
        "id": "npLZwHhOD5Qv",
        "outputId": "d2cb7a01-f60e-47c5-ea09-f2c703f70890"
      },
      "execution_count": null,
      "outputs": [
        {
          "output_type": "stream",
          "name": "stderr",
          "text": [
            "<ipython-input-12-2501870cee17>:2: UserWarning: Could not infer format, so each element will be parsed individually, falling back to `dateutil`. To ensure parsing is consistent and as-expected, please specify a format.\n",
            "  rd_accident_df['Time'] = pd.to_datetime(rd_accident_df['Time'], errors='coerce').dt.time\n"
          ]
        }
      ]
    },
    {
      "cell_type": "code",
      "source": [
        "rd_accident_df.info()"
      ],
      "metadata": {
        "colab": {
          "base_uri": "https://localhost:8080/"
        },
        "id": "iO6Y8vC-Euyu",
        "outputId": "c33cd3c3-ed2e-4d15-ea30-d5a97e24e8fb"
      },
      "execution_count": null,
      "outputs": [
        {
          "output_type": "stream",
          "name": "stdout",
          "text": [
            "<class 'pandas.core.frame.DataFrame'>\n",
            "RangeIndex: 300 entries, 0 to 299\n",
            "Data columns (total 13 columns):\n",
            " #   Column              Non-Null Count  Dtype         \n",
            "---  ------              --------------  -----         \n",
            " 0   Accident_ID         300 non-null    object        \n",
            " 1   State               300 non-null    object        \n",
            " 2   Date                299 non-null    datetime64[ns]\n",
            " 3   Time                299 non-null    object        \n",
            " 4   Reason              300 non-null    object        \n",
            " 5   Number_of_Deaths    300 non-null    int64         \n",
            " 6   Number_of_Injuries  300 non-null    object        \n",
            " 7   Road_Type           300 non-null    object        \n",
            " 8   Weather_Conditions  300 non-null    object        \n",
            " 9   Alcohol_Involved    300 non-null    object        \n",
            " 10  Driver_Fatigue      300 non-null    object        \n",
            " 11  Road_Conditions     300 non-null    object        \n",
            " 12  Speed_Limit         299 non-null    float64       \n",
            "dtypes: datetime64[ns](1), float64(1), int64(1), object(10)\n",
            "memory usage: 30.6+ KB\n"
          ]
        }
      ]
    },
    {
      "cell_type": "code",
      "source": [
        "# Finding the average speed_limit\n",
        "avg_speed = rd_accident_df['Speed_Limit'].mean()\n",
        "print(f'The average speed of vehicle in raod accident is: {round(avg_speed)}')"
      ],
      "metadata": {
        "colab": {
          "base_uri": "https://localhost:8080/"
        },
        "id": "Ohq88RSmDGin",
        "outputId": "9df40562-37e3-45a0-a9e2-b548cd53cb72"
      },
      "execution_count": null,
      "outputs": [
        {
          "output_type": "stream",
          "name": "stdout",
          "text": [
            "The average speed of vehicle in raod accident is: 57\n"
          ]
        }
      ]
    },
    {
      "cell_type": "code",
      "source": [
        "# Count of accident group by speed limit\n",
        "accident_count = rd_accident_df.groupby(['Speed_Limit'])['Number_of_Deaths'].mean()\n",
        "# Insights Found:-\n",
        "# 1. The average speed of the vehicle is 56.98\n",
        "# 2. the number of casualties increases when speed is < 60\n",
        "print(accident_count)"
      ],
      "metadata": {
        "colab": {
          "base_uri": "https://localhost:8080/"
        },
        "id": "2eP-JxsxeML5",
        "outputId": "86166e1b-a2dd-4314-9b6c-09234b256941"
      },
      "execution_count": null,
      "outputs": [
        {
          "output_type": "stream",
          "name": "stdout",
          "text": [
            "Speed_Limit\n",
            "30.0    1.000000\n",
            "40.0    1.403846\n",
            "50.0    1.678161\n",
            "60.0    1.879518\n",
            "70.0    2.026316\n",
            "80.0    1.966667\n",
            "90.0    2.000000\n",
            "Name: Number_of_Deaths, dtype: float64\n"
          ]
        }
      ]
    },
    {
      "cell_type": "code",
      "source": [
        "# Average No of Deaths\n",
        "avg_death = rd_accident_df['Number_of_Deaths'].mean()\n",
        "print(f'The average number of death in road accident is: {round(avg_death, 2)}')"
      ],
      "metadata": {
        "colab": {
          "base_uri": "https://localhost:8080/"
        },
        "id": "R_w_q0mXgO_L",
        "outputId": "7af17fd2-188e-44a6-9a56-f2b6cb74ccdb"
      },
      "execution_count": null,
      "outputs": [
        {
          "output_type": "stream",
          "name": "stdout",
          "text": [
            "The average number of death in road accident is: 1.77\n"
          ]
        }
      ]
    },
    {
      "cell_type": "code",
      "source": [
        "# Road accident by alcohol\n",
        "rd_accident_by_alcohol = rd_accident_df['Alcohol_Involved'] == 'Yes'\n",
        "\n",
        "# rd_accident_by_alcohol.sum()"
      ],
      "metadata": {
        "id": "2MALM31ehwi8"
      },
      "execution_count": null,
      "outputs": []
    },
    {
      "cell_type": "code",
      "source": [
        "deaths_by_alcohol = rd_accident_by_alcohol.value_counts()# Count of accidents caused by consuming alcohol\n",
        "print(deaths_by_alcohol) # Value counts of accidents caused by consuming alcohol"
      ],
      "metadata": {
        "colab": {
          "base_uri": "https://localhost:8080/"
        },
        "id": "0s-hk3QakSu1",
        "outputId": "472f4fbb-a37e-4244-f655-ffa8ddaf0581"
      },
      "execution_count": null,
      "outputs": [
        {
          "output_type": "stream",
          "name": "stdout",
          "text": [
            "Alcohol_Involved\n",
            "False    200\n",
            "True     100\n",
            "Name: count, dtype: int64\n"
          ]
        }
      ]
    },
    {
      "cell_type": "code",
      "source": [
        "print(f'The number of accident caused by consumption of alcohol is:',rd_accident_by_alcohol.sum()) # Sum of accidents caused by consuming alcohol"
      ],
      "metadata": {
        "colab": {
          "base_uri": "https://localhost:8080/"
        },
        "id": "oLOTXGnYkxyQ",
        "outputId": "2247f9c2-bf26-48a2-d58c-1964ad3cf81c"
      },
      "execution_count": null,
      "outputs": [
        {
          "output_type": "stream",
          "name": "stdout",
          "text": [
            "The number of accident caused by consumption of alcohol is: 100\n"
          ]
        }
      ]
    },
    {
      "cell_type": "code",
      "source": [
        "# Calculating accident caused in rular and urban area\n",
        "rd_accident_by_urban = rd_accident_df['Road_Type'] == 'Urban'\n",
        "rd_accident_by_rural = rd_accident_df['Road_Type'] == 'Rural'\n",
        "print('The sum of accidents in urban is:', rd_accident_by_urban.sum())\n",
        "print('The sum of accidents in rural is:', rd_accident_by_rural.sum())"
      ],
      "metadata": {
        "id": "vc4ghD00k97e",
        "colab": {
          "base_uri": "https://localhost:8080/"
        },
        "outputId": "919e461e-5451-4bd3-8694-f2afb9f156ec"
      },
      "execution_count": null,
      "outputs": [
        {
          "output_type": "stream",
          "name": "stdout",
          "text": [
            "The sum of accidents in urban is: 156\n",
            "The sum of accidents in rural is: 143\n"
          ]
        }
      ]
    },
    {
      "cell_type": "code",
      "source": [
        "# Value counts of accidents in urban area\n",
        "rd_accident_by_urban.value_counts()"
      ],
      "metadata": {
        "colab": {
          "base_uri": "https://localhost:8080/"
        },
        "id": "oZrodNwbmIh2",
        "outputId": "9236deb4-de63-4a6d-8690-0423f1c40509"
      },
      "execution_count": null,
      "outputs": [
        {
          "output_type": "execute_result",
          "data": {
            "text/plain": [
              "Road_Type\n",
              "True     156\n",
              "False    144\n",
              "Name: count, dtype: int64"
            ]
          },
          "metadata": {},
          "execution_count": 22
        }
      ]
    },
    {
      "cell_type": "code",
      "source": [
        "# Value counts of accidents in rural area\n",
        "rd_accident_by_rural.value_counts()"
      ],
      "metadata": {
        "colab": {
          "base_uri": "https://localhost:8080/"
        },
        "id": "o1_MvIC4mdfz",
        "outputId": "32c1cd57-133e-406c-9e8e-0fd2059a6046"
      },
      "execution_count": null,
      "outputs": [
        {
          "output_type": "execute_result",
          "data": {
            "text/plain": [
              "Road_Type\n",
              "False    157\n",
              "True     143\n",
              "Name: count, dtype: int64"
            ]
          },
          "metadata": {},
          "execution_count": 23
        }
      ]
    },
    {
      "cell_type": "markdown",
      "source": [
        "### Charts for Visualization, storytelling & Experimenting the Data set >>"
      ],
      "metadata": {
        "id": "Dcu8qMOR_0Dr"
      }
    },
    {
      "cell_type": "markdown",
      "source": [
        "### Chart 1: Bar Chart for Analysing Average speed of the vehicles groupby Number of Deaths\n",
        "### Insights found: The Bar chart indicate that the average number of deaths tends to be higher when the speed is below 60 kmph, whereas it decreases somewhat when the speed exceeds 30 kmph."
      ],
      "metadata": {
        "id": "A_53b_6eGyS0"
      }
    },
    {
      "cell_type": "code",
      "source": [
        "avg_speed = rd_accident_df.groupby('Speed_Limit')['Number_of_Deaths'].mean()\n",
        "plt.figure(figsize=(8, 4))\n",
        "plt.bar(avg_speed.index, avg_speed.values)\n",
        "plt.xlabel('Speed Limit')\n",
        "plt.ylabel('Average Number of Deaths')\n",
        "plt.title('Average Number of Deaths by Speed Limit')\n",
        "plt.grid(False)\n",
        "plt.show()"
      ],
      "metadata": {
        "colab": {
          "base_uri": "https://localhost:8080/",
          "height": 410
        },
        "id": "GFLloq1wG7Wn",
        "outputId": "7327e904-c533-4a4e-82fe-fbb6b376ecf6"
      },
      "execution_count": null,
      "outputs": [
        {
          "output_type": "display_data",
          "data": {
            "text/plain": [
              "<Figure size 800x400 with 1 Axes>"
            ],
            "image/png": "[encoded data removed]"
          },
          "metadata": {}
        }
      ]
    },
    {
      "cell_type": "markdown",
      "source": [
        "### Chart 2: Pie chart for analyzing the no of accidents by road type\n",
        "### Insights found: The insights revealed indicate that road accidents resulting in fatalities are predominant in rural areas, accounting for 51.7% of total deaths. In contrast, urban areas contribute 47.4% to the total fatalities, while accidents occurring in foggy conditions represent a minor fraction, amounting to only 0.9%."
      ],
      "metadata": {
        "id": "Nef_88Yen2dg"
      }
    },
    {
      "cell_type": "code",
      "source": [
        "# Plotting a pie chart to analyse the no of road accidents by road type ie:-(Foggy, Urban, Rural)\n",
        "\n",
        "grouped_data = rd_accident_df.groupby('Road_Type')['Number_of_Deaths'].sum()\n",
        "\n",
        "# Creating pie chart\n",
        "plt.figure(figsize=(8, 4))\n",
        "plt.pie(grouped_data, labels=grouped_data.index, autopct='%1.1f%%', startangle=90)\n",
        "plt.title('Number of Deaths in Road Accidents by Road Type')\n",
        "\n",
        "plt.axis('equal')  # Equal aspect ratio ensures that pie is drawn as a circle.\n",
        "\n",
        "plt.show()"
      ],
      "metadata": {
        "colab": {
          "base_uri": "https://localhost:8080/",
          "height": 367
        },
        "id": "Tm4rsG4dnuV8",
        "outputId": "9c1818ac-9d58-4c11-bc70-fcacdd2b3b42"
      },
      "execution_count": null,
      "outputs": [
        {
          "output_type": "display_data",
          "data": {
            "text/plain": [
              "<Figure size 800x400 with 1 Axes>"
            ],
            "image/png": "[encoded data removed]"
          },
          "metadata": {}
        }
      ]
    },
    {
      "cell_type": "markdown",
      "source": [
        "### Chart 3: Horizontal Bar Chart to identify No of Deaths by State\n",
        "### Insights found: Insights from the chart highlight higher occurrences of fatalities in specific states such as Himachal Pradesh, Meghalaya, Bihar, and Goa. To mitigate these numbers, proactive steps are crucial from road transportation authorities to enhance safety measures and implement targeted interventions in these states."
      ],
      "metadata": {
        "id": "YiWSSjv9iE-m"
      }
    },
    {
      "cell_type": "code",
      "source": [
        "# Set the style of the visualization\n",
        "sns.set_style(\"whitegrid\")\n",
        "\n",
        "# Create the horizontal bar plot\n",
        "plt.figure(figsize=(8, 6))\n",
        "bar_plot = sns.barplot(x='Number_of_Deaths', y='State', data=rd_accident_df, palette='viridis')\n",
        "\n",
        "# Adding title and labels\n",
        "plt.title('Number of Deaths by State', fontsize=16)\n",
        "plt.xlabel('Number of Deaths', fontsize=14)\n",
        "plt.ylabel('State', fontsize=14)\n",
        "\n",
        "# Adjusting layout for better fit\n",
        "plt.tight_layout()\n",
        "plt.show()"
      ],
      "metadata": {
        "colab": {
          "base_uri": "https://localhost:8080/",
          "height": 694
        },
        "id": "6FpOvMoIp_EA",
        "outputId": "b7658113-0c47-401c-add5-fabea34cd12b"
      },
      "execution_count": null,
      "outputs": [
        {
          "output_type": "stream",
          "name": "stderr",
          "text": [
            "<ipython-input-37-b868a5a885b4>:6: FutureWarning: \n",
            "\n",
            "Passing `palette` without assigning `hue` is deprecated and will be removed in v0.14.0. Assign the `y` variable to `hue` and set `legend=False` for the same effect.\n",
            "\n",
            "  bar_plot = sns.barplot(x='Number_of_Deaths', y='State', data=rd_accident_df, palette='viridis')\n"
          ]
        },
        {
          "output_type": "display_data",
          "data": {
            "text/plain": [
              "<Figure size 800x600 with 1 Axes>"
            ],
            "image/png": "[encoded data removed]"
          },
          "metadata": {}
        }
      ]
    },
    {
      "cell_type": "markdown",
      "source": [
        "### Chart 4: Donut Chart, Analysing reasons for road Accidents\n",
        "### Insights found: Donut chart below reveal significant factors contributing to road accidents: 19.7% are attributed to drunk driving, highlighting the dangers of impaired driving. Additionally, poor road conditions account for 18% of accidents, emphasizing the need for infrastructure improvements. Driver fatigue, contributing to 17.3% of accidents, underscores the importance of addressing driver health and rest regulations to enhance road safety measures comprehensively. Identifying these leading causes underscores the imperative for targeted interventions and policies aimed at reducing these risks and promoting safer roads for all."
      ],
      "metadata": {
        "id": "ENfTjd-Zjlns"
      }
    },
    {
      "cell_type": "code",
      "source": [
        "# Creating Donut chart\n",
        "reason_counts = rd_accident_df['Reason'].value_counts()\n",
        "fig, ax = plt.subplots(figsize=(5, 5))\n",
        "wedges, texts, autotexts = ax.pie(reason_counts, autopct='%1.1f%%', startangle=140, wedgeprops=dict(width=0.4))\n",
        "centre_circle = plt.Circle((0, 0), 0.70, fc='white')\n",
        "fig.gca().add_artist(centre_circle)\n",
        "\n",
        "ax.axis('equal')\n",
        "\n",
        "# Naming title and legend\n",
        "plt.title('Reasons for Road Accidents', fontsize=12)\n",
        "ax.legend(wedges, reason_counts.index, title=\"Reasons\", loc=\"center left\", bbox_to_anchor=(1, 0, 0.5, 1))\n",
        "\n",
        "# coloring\n",
        "plt.setp(autotexts, size=10, weight=\"bold\", color=\"black\")\n",
        "plt.show()"
      ],
      "metadata": {
        "colab": {
          "base_uri": "https://localhost:8080/",
          "height": 444
        },
        "id": "Izk8qCv5s4FI",
        "outputId": "b8329c0a-a615-456c-8930-b16f12932881"
      },
      "execution_count": null,
      "outputs": [
        {
          "output_type": "display_data",
          "data": {
            "text/plain": [
              "<Figure size 500x500 with 1 Axes>"
            ],
            "image/png": "[encoded data removed]"
          },
          "metadata": {}
        }
      ]
    },
    {
      "cell_type": "markdown",
      "source": [
        "### Chart 5: Vertical Bar Chart to show Number of Injuries group by Speed Limit\n",
        "### Insights found: Insights suggest that higher numbers of injuries occur within the speed range of 30 to 50 mph. This finding underscores a critical speed threshold where accident severity, potentially influenced by factors such as reaction times and collision dynamics, leads to increased injury rates on the road. Understanding these speed-related injury patterns is crucial for implementing targeted safety measures and speed management strategies aimed at reducing road accidents and their associated human toll."
      ],
      "metadata": {
        "id": "ytOmjq9oyYXb"
      }
    },
    {
      "cell_type": "code",
      "source": [
        "# Creating Horizontal Bar chart\n",
        "sns.set_style(\"whitegrid\")\n",
        "colors = sns.color_palette(\"Reds_r\", 9)\n",
        "plt.figure(figsize=(8, 5))\n",
        "bar_plot = sns.barplot(x='Speed_Limit', y='Number_of_Injuries', data=rd_accident_df, palette=colors)\n",
        "\n",
        "plt.title('Number of Injuries by Speed Limit', fontsize=16)\n",
        "plt.xlabel('Speed Limit', fontsize=14)\n",
        "plt.ylabel('Number of Injuries', fontsize=14)\n",
        "\n",
        "plt.tight_layout()\n",
        "\n",
        "plt.show()"
      ],
      "metadata": {
        "colab": {
          "base_uri": "https://localhost:8080/",
          "height": 628
        },
        "id": "II8pyOFRIH18",
        "outputId": "e83742ed-c654-45db-9c62-d98fff325296"
      },
      "execution_count": null,
      "outputs": [
        {
          "output_type": "stream",
          "name": "stderr",
          "text": [
            "<ipython-input-32-9d028eed9b97>:5: FutureWarning: \n",
            "\n",
            "Passing `palette` without assigning `hue` is deprecated and will be removed in v0.14.0. Assign the `y` variable to `hue` and set `legend=False` for the same effect.\n",
            "\n",
            "  bar_plot = sns.barplot(x='Speed_Limit', y='Number_of_Injuries', data=rd_accident_df, palette=colors)\n",
            "<ipython-input-32-9d028eed9b97>:5: UserWarning: The palette list has more values (9) than needed (8), which may not be intended.\n",
            "  bar_plot = sns.barplot(x='Speed_Limit', y='Number_of_Injuries', data=rd_accident_df, palette=colors)\n"
          ]
        },
        {
          "output_type": "display_data",
          "data": {
            "text/plain": [
              "<Figure size 800x500 with 1 Axes>"
            ],
            "image/png": "[encoded data removed]"
          },
          "metadata": {}
        }
      ]
    },
    {
      "cell_type": "markdown",
      "source": [
        "### Conclusion :  EDA (Exploratory Data Analysis) on Road Accident Data using pandas helped me to understand road accident data comprehensively. After completing the road accident project, leveraging pandas for Exploratory Data Analysis (EDA) has proven indispensable. By utilizing pandas' robust capabilities, I navigated data structures, unearthed anomalies, and meticulously cleaned datasets, ensuring data accuracy. Visualizations crafted with Matplotlib and Seaborn uncovered critical insights, revealing seasonal accident trends and prevalent causes. These findings empowered informed decision-making, guiding the implementation of targeted safety measures and optimizing traffic management strategies.Through its comprehensive examination of accident data, pandas provided actionable intelligence to policymakers, urban planners, and law enforcement agencies, facilitating proactive measures to tackle road safety challenges and foster improvements in transportation infrastructure and policies."
      ],
      "metadata": {
        "id": "gpievxZ3U8nh"
      }
    }
  ]
}